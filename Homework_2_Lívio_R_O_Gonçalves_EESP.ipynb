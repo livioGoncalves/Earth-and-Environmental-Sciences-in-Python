{
  "nbformat": 4,
  "nbformat_minor": 0,
  "metadata": {
    "colab": {
      "provenance": []
    },
    "kernelspec": {
      "name": "python3",
      "display_name": "Python 3"
    },
    "language_info": {
      "name": "python"
    }
  },
  "cells": [
    {
      "cell_type": "markdown",
      "source": [
        "Question 1: Create List of Data Values\n",
        "---\n",
        "\n",
        "Month\tTemperature (Celsius)\n",
        "Jan\t0.0\n",
        "Feb\t2.00\n",
        "Mar\t5.0\n",
        "Apr\t9.56\n",
        "May\t14.39\n",
        "Aug\t21.72\n",
        "Sept\t16.72\n",
        "Oct\t11.61\n",
        "Nov\t4.89\n",
        "Dec\t0.99"
      ],
      "metadata": {
        "id": "hmkp-YDnnkFt"
      }
    },
    {
      "cell_type": "code",
      "source": [
        "#1° passo é criar as variáveis\n",
        "Jan = 0.0\n",
        "Fev = 2.00\n",
        "Mar = 5.0\n",
        "Abr = 9.56\n",
        "Mai = 14.39\n",
        "Ago = 21.72\n",
        "Set = 16.72\n",
        "Out = 11.61\n",
        "Nov = 4.89\n",
        "Dez = 0.99\n",
        "#2° criar uma lista com as variáves\n",
        "media_temp = [Jan, Fev, Mar, Abr, Mai, Ago, Set, Out, Nov, Dez]\n",
        "print(media_temp)"
      ],
      "metadata": {
        "colab": {
          "base_uri": "https://localhost:8080/"
        },
        "id": "neoXQm09l__8",
        "outputId": "0b0166ea-4574-4c02-e2d9-0895624c41f8"
      },
      "execution_count": null,
      "outputs": [
        {
          "output_type": "stream",
          "name": "stdout",
          "text": [
            "[0.0, 2.0, 5.0, 9.56, 14.39, 21.72, 16.72, 11.61, 4.89, 0.99]\n"
          ]
        }
      ]
    },
    {
      "cell_type": "markdown",
      "source": [
        "Question 2: Insert Values Into a Python List\n",
        "---\n",
        "Month\tTemperature (Celsius)\n",
        "June\t19.56\n",
        "July\t22.78"
      ],
      "metadata": {
        "id": "dENNV255nZ0_"
      }
    },
    {
      "cell_type": "code",
      "source": [
        "#1° definir as novas variáveis\n",
        "Jun = 19.56\n",
        "Jul = 22.78\n",
        "print(Jun)\n",
        "print(Jul)\n",
        "print(media_temp)\n",
        "#2° add a lista\n",
        "media_temp.insert(5, Jun)\n",
        "print(media_temp)\n",
        "media_temp.insert(6, Jul)\n",
        "print(media_temp)\n"
      ],
      "metadata": {
        "colab": {
          "base_uri": "https://localhost:8080/"
        },
        "id": "k4SfujmYqr32",
        "outputId": "2d5b0891-6b71-422e-ace9-906c8d5da140"
      },
      "execution_count": null,
      "outputs": [
        {
          "output_type": "stream",
          "name": "stdout",
          "text": [
            "19.56\n",
            "22.78\n",
            "[0.0, 2.0, 5.0, 9.56, 14.39, 21.72, 16.72, 11.61, 4.89, 0.99]\n",
            "[0.0, 2.0, 5.0, 9.56, 14.39, 19.56, 21.72, 16.72, 11.61, 4.89, 0.99]\n",
            "[0.0, 2.0, 5.0, 9.56, 14.39, 19.56, 22.78, 21.72, 16.72, 11.61, 4.89, 0.99]\n"
          ]
        }
      ]
    },
    {
      "cell_type": "markdown",
      "source": [
        "Question 3: Manually Create Numpy Arrays\n",
        "---\n",
        "Using the average monthly temperature values, manually create and print a one-dimensional numpy array using the following syntax:\n",
        "\n",
        "arrayname = np.array([value, value, value, etc])\n",
        "\n",
        "    [ 0.    2.    5.    9.56 14.39 19.56 22.78 21.72 16.72 11.61  4.89  0.99]\n",
        "Using the completed Python list from the previous question, create and print another numpy array using the following syntax:\n",
        "\n",
        "arrayname = np.array(listname)\n",
        "\n",
        "    [ 0.    2.    5.    9.56 14.39 19.56 22.78 21.72 16.72 11.61  4.89  0.99]"
      ],
      "metadata": {
        "id": "6HNh9Nqrl36i"
      }
    },
    {
      "cell_type": "code",
      "source": [
        "#1° Passo importar tudo que vamos precisar\n",
        "import os\n",
        "import numpy as np\n",
        "import urllib.request\n",
        "print(\"Você é uma maquina de vitória, vai em frente!\")\n",
        "#2° Passo criar o numpy array\n",
        "media_temp_meses = np.array([0.0, 2.0, 5.0, 9.56, 14.39, 19.56, 22.78, 21.72, 16.72, 11.61, 4.89, 0.99])\n",
        "print(media_temp_meses)\n",
        "#3° Criar np array em cima da lista\n",
        "media_temp_numpy = np.array(media_temp)\n",
        "print(media_temp_numpy)\n",
        "\n",
        "#media_temp_numpy é a numpy array criada apartir de uma lista\n",
        "#media_temp_meses é a nump array craiada inserindo os valores manualmente\n",
        "#media_temp é uma lista criada inserindo valor de cada variável"
      ],
      "metadata": {
        "colab": {
          "base_uri": "https://localhost:8080/"
        },
        "id": "rZvrbkAQPSkK",
        "outputId": "441b3df1-e8b5-46d4-d50c-749f8a7f3bac"
      },
      "execution_count": null,
      "outputs": [
        {
          "output_type": "stream",
          "name": "stdout",
          "text": [
            "Você é uma maquina de vitória, vai em frente!\n",
            "[ 0.    2.    5.    9.56 14.39 19.56 22.78 21.72 16.72 11.61  4.89  0.99]\n",
            "[ 0.    2.    5.    9.56 14.39 19.56 22.78 21.72 16.72 11.61  4.89  0.99]\n"
          ]
        }
      ]
    },
    {
      "cell_type": "markdown",
      "source": [
        "Quesion 4: Download Text File and Import Into Numpy Arrays\n",
        "---\n",
        "Use .urllib.request to download the following file of average monthly temperature (Celsius) for Boulder, Colorado, to your data directory:\n",
        "\n",
        "avg-monthly-temp.txt from https://ndownloader.figshare.com/files/12732467\n",
        "\n",
        "Recall that:\n",
        "\n",
        "First you need to set your working directory (e.g. /content)\n",
        "and create a folder named data before running the commands to download data.\n",
        "Use the appropriate function to import avg-monthly-temp.txt into a numpy array."
      ],
      "metadata": {
        "id": "2miOZEIFXR9F"
      }
    },
    {
      "cell_type": "code",
      "source": [
        "#1° Criar o diretório\n",
        "!pwd\n",
        "os.getcwd()\n",
        "from google.colab import drive\n",
        "drive.mount('/content/drive')\n",
        "urllib.request.urlretrieve(url = \"https://ndownloader.figshare.com/files/12732467\",\n",
        "                           filename = \"sample_data/avg-monthly-temp.txt\")\n",
        "print(\"sucesso meu varão\")\n",
        "#2° Importar agora meu estimável amigo\n",
        "avg_monthly_temp = np.loadtxt(fname = \"sample_data/avg-monthly-temp.txt\")\n",
        "print(avg_monthly_temp)"
      ],
      "metadata": {
        "colab": {
          "base_uri": "https://localhost:8080/"
        },
        "id": "qwaDX5ddXc2C",
        "outputId": "458c83de-e149-4c1b-e493-b1f24370b679"
      },
      "execution_count": null,
      "outputs": [
        {
          "output_type": "stream",
          "name": "stdout",
          "text": [
            "/content\n",
            "Drive already mounted at /content/drive; to attempt to forcibly remount, call drive.mount(\"/content/drive\", force_remount=True).\n",
            "sucesso meu varão\n",
            "[ 0.    2.    5.    9.56 14.39 19.56 22.78 21.72 16.72 11.61  4.89  0.99]\n"
          ]
        }
      ]
    },
    {
      "cell_type": "markdown",
      "source": [
        "Quesion 5: Select and Summarize Data From Numpy Arrays\n",
        "Using selections, create two new numpy arrays containing the data values for:\n",
        "---\n",
        "Mar, Apr, May\n",
        "Sept, Oct, Nov\n",
        "Run the appropriate function to calculate and print the mean of each new numpy array.\n",
        "\n",
        "    Mean of Spring Average Monthly Temperatures: 9.65\n",
        "    Mean of Fall Average Monthly Temperatures: 11.073333333333332"
      ],
      "metadata": {
        "id": "sU-xJof-gI1L"
      }
    },
    {
      "cell_type": "code",
      "source": [
        "#1° Criar um array de média selecionando só os meses da primavera\n",
        "primavera = avg_monthly_temp[8:11]\n",
        "print(primavera)\n",
        "#2° Agora é só calcular a média\n",
        "media_primavera = np.mean(primavera)\n",
        "print(media_primavera)\n",
        "#ps ta trocado pq no Brasil é o inverso\n",
        "#3° repetir o mesmo passo com o outono\n",
        "outono = avg_monthly_temp[2:5]\n",
        "print(outono)\n",
        "media_outono = np.mean(outono)\n",
        "print(media_outono)\n",
        "\n"
      ],
      "metadata": {
        "colab": {
          "base_uri": "https://localhost:8080/"
        },
        "id": "WXQ4DF3Ng8zb",
        "outputId": "421ba790-f9bc-460b-928d-df44136c9884"
      },
      "execution_count": null,
      "outputs": [
        {
          "output_type": "stream",
          "name": "stdout",
          "text": [
            "[16.72 11.61  4.89]\n",
            "11.073333333333332\n",
            "[ 5.    9.56 14.39]\n",
            "9.65\n"
          ]
        }
      ]
    },
    {
      "cell_type": "markdown",
      "source": [
        "Question 6: Manually Create Pandas Dataframes\n",
        "Manually create and print a pandas dataframe of average monthly temperature (Celsius) for Boulder, Colorado, with the following syntax:\n",
        "---\n",
        "dataframe_name = pd.DataFrame( columns=[\"column_name_textstring\", \"column_name_numeric\"], data=[ [\"Text\", value], [\"Text\", value], [\"Text\", value], [\"Text\", value] ] )\n",
        "---\n",
        "Note that you do not need to include the line spaces displayed above. They are simply there to help you see the appropriate syntax.\n",
        "---\n",
        "Month\tTemp\n",
        "0\tJanuary\t0.00\n",
        "1\tFebruary\t2.00\n",
        "2\tMarch\t5.00\n",
        "3\tApril\t9.56\n",
        "4\tMay\t14.39\n",
        "5\tJune\t19.56\n",
        "6\tJuly\t22.78\n",
        "7\tAugust\t21.72\n",
        "8\tSeptember\t16.72\n",
        "9\tOctober\t11.61\n",
        "10\tNovember\t4.89\n",
        "11\tDecember\t0.99"
      ],
      "metadata": {
        "id": "fckwGrdXaxw9"
      }
    },
    {
      "cell_type": "code",
      "source": [
        "#1° Importa os pacotinhos\n",
        "import os\n",
        "import urllib.request\n",
        "import pandas as pd\n",
        "#2° Usa o role do enunciado\n",
        "pandinha = pd.DataFrame( columns=[\"meses\", \"temperatura media\"], data=[ [\"Janeiro\", 0.0], [\"Fevereiro\", 2.0], [\"Março\", 5.0], [\"Abril\", 9.56], [\"Maio\", 5.0], [\"Junho\", 19.56], [\"Julho\", 22.78], [\"Agosto\", 21.72], [\"Setembro\", 16.72], [\"Outubro\", 11.61], [\"Novembro\", 4.89], [\"Dezembro\", 0.99]  ] )\n",
        "print(pandinha)"
      ],
      "metadata": {
        "colab": {
          "base_uri": "https://localhost:8080/"
        },
        "id": "2cy2lQh4a59B",
        "outputId": "2dac130c-778e-41d5-9aa1-be57ac312dea"
      },
      "execution_count": null,
      "outputs": [
        {
          "output_type": "stream",
          "name": "stdout",
          "text": [
            "        meses  temperatura media\n",
            "0     Janeiro               0.00\n",
            "1   Fevereiro               2.00\n",
            "2       Março               5.00\n",
            "3       Abril               9.56\n",
            "4        Maio               5.00\n",
            "5       Junho              19.56\n",
            "6       Julho              22.78\n",
            "7      Agosto              21.72\n",
            "8    Setembro              16.72\n",
            "9     Outubro              11.61\n",
            "10   Novembro               4.89\n",
            "11   Dezembro               0.99\n"
          ]
        }
      ]
    },
    {
      "cell_type": "markdown",
      "source": [
        "Question 7: Download CSV File and Import Into Pandas Dataframes\n",
        "---\n",
        "Use .urllib.request to download the following file of average monthly temperature (Celsius) for Boulder, Colorado, to your data directory:\n",
        "---\n",
        "avg-temp-months-seasons.csv from https://ndownloader.figshare.com/files/12739457\n",
        "\n",
        "Recall that:\n",
        "\n",
        "First you need to set your working directory (e.g. /content)\n",
        "---\n",
        "and create a folder named data before running the commands to download data.\n",
        "Use the appropriate function to import avg-temp-months-seasons.csv into a pandas dataframe."
      ],
      "metadata": {
        "id": "19G8rX4RKrpl"
      }
    },
    {
      "cell_type": "code",
      "source": [
        "#1° cria o diretório igual manda a questão\n",
        "os.mkdir(\"/data\")\n",
        "#2° Depois usa esse role\n",
        "urllib.request.urlretrieve(url = \"https://ndownloader.figshare.com/files/12739457\",\n",
        "                           filename = \"/data/avg-temp-months-seasons.csv\")\n",
        "print(\"domingão e você fazendo execercío de python, o sucesso é todo seu!\")"
      ],
      "metadata": {
        "colab": {
          "base_uri": "https://localhost:8080/"
        },
        "id": "7UVa37RTKwfX",
        "outputId": "92ea5d60-0e71-433a-f66e-68d1ab41e0fe"
      },
      "execution_count": null,
      "outputs": [
        {
          "output_type": "stream",
          "name": "stdout",
          "text": [
            "domingão e você fazendo execercío de python, o sucesso é todo seu!\n"
          ]
        }
      ]
    },
    {
      "cell_type": "markdown",
      "source": [
        "Question 8: Select and Summarize Data From Pandas Dataframes\n",
        "---\n",
        "\n",
        "Select the data for each season (e.g. Winter) and assign the results to a new pandas dataframe for each season.\n",
        "---\n",
        "Run the appropriate function to summarize each new pandas dataframe (e.g. Winter)."
      ],
      "metadata": {
        "id": "8B1wAMGnMWIk"
      }
    },
    {
      "cell_type": "code",
      "source": [
        "#1° Vamos criar o pandinha\n",
        "avg_temp = pd.read_csv(\"/data/avg-temp-months-seasons.csv\")\n",
        "print(avg_temp)\n",
        "#2° Importa mais esse negocinho aqui que vai ajudar\n",
        "import matplotlib.pyplot as plt\n",
        "#3° Seleciona os roles certos\n",
        "avg_temp[avg_temp.seasons == \"Winter\"]\n",
        "#4° Definir uma nova variável so para o role certo\n",
        "avg_temp_winter = avg_temp[avg_temp.seasons == \"Winter\"]\n",
        "#5° Vê se deu certo\n",
        "print(avg_temp_winter)\n",
        "#6° Faz o role da estatistica\n",
        "avg_temp_winter.describe()\n",
        "#7° repete para as outras estações\n",
        "avg_temp_summer = avg_temp[avg_temp.seasons == \"Summer\"]\n",
        "avg_temp_spring = avg_temp[avg_temp.seasons == \"Spring\"]\n",
        "avg_temp_fall = avg_temp[avg_temp.seasons == \"Fall\"]\n",
        "avg_temp_winter.describe()\n",
        "avg_temp_summer.describe()\n",
        "avg_temp_spring.describe()\n",
        "avg_temp_fall.describe()\n"
      ],
      "metadata": {
        "colab": {
          "base_uri": "https://localhost:8080/",
          "height": 611
        },
        "id": "g96Rrs_AM5hY",
        "outputId": "99edd80c-b335-433f-bf89-fefb15a5e25f"
      },
      "execution_count": null,
      "outputs": [
        {
          "output_type": "stream",
          "name": "stdout",
          "text": [
            "   months   temp seasons\n",
            "0     Jan   0.00  Winter\n",
            "1     Feb   2.00  Winter\n",
            "2     Mar   5.00  Spring\n",
            "3     Apr   9.56  Spring\n",
            "4     May  14.39  Spring\n",
            "5    June  19.56  Summer\n",
            "6    July  22.78  Summer\n",
            "7     Aug  21.72  Summer\n",
            "8    Sept  16.72    Fall\n",
            "9     Oct  11.61    Fall\n",
            "10    Nov   4.89    Fall\n",
            "11    Dec   0.99  Winter\n",
            "   months  temp seasons\n",
            "0     Jan  0.00  Winter\n",
            "1     Feb  2.00  Winter\n",
            "11    Dec  0.99  Winter\n"
          ]
        },
        {
          "output_type": "execute_result",
          "data": {
            "text/plain": [
              "            temp\n",
              "count   3.000000\n",
              "mean   11.073333\n",
              "std     5.933231\n",
              "min     4.890000\n",
              "25%     8.250000\n",
              "50%    11.610000\n",
              "75%    14.165000\n",
              "max    16.720000"
            ],
            "text/html": [
              "\n",
              "  <div id=\"df-e2ed76fc-1e6f-425e-bc1f-28a4edbdbcbe\">\n",
              "    <div class=\"colab-df-container\">\n",
              "      <div>\n",
              "<style scoped>\n",
              "    .dataframe tbody tr th:only-of-type {\n",
              "        vertical-align: middle;\n",
              "    }\n",
              "\n",
              "    .dataframe tbody tr th {\n",
              "        vertical-align: top;\n",
              "    }\n",
              "\n",
              "    .dataframe thead th {\n",
              "        text-align: right;\n",
              "    }\n",
              "</style>\n",
              "<table border=\"1\" class=\"dataframe\">\n",
              "  <thead>\n",
              "    <tr style=\"text-align: right;\">\n",
              "      <th></th>\n",
              "      <th>temp</th>\n",
              "    </tr>\n",
              "  </thead>\n",
              "  <tbody>\n",
              "    <tr>\n",
              "      <th>count</th>\n",
              "      <td>3.000000</td>\n",
              "    </tr>\n",
              "    <tr>\n",
              "      <th>mean</th>\n",
              "      <td>11.073333</td>\n",
              "    </tr>\n",
              "    <tr>\n",
              "      <th>std</th>\n",
              "      <td>5.933231</td>\n",
              "    </tr>\n",
              "    <tr>\n",
              "      <th>min</th>\n",
              "      <td>4.890000</td>\n",
              "    </tr>\n",
              "    <tr>\n",
              "      <th>25%</th>\n",
              "      <td>8.250000</td>\n",
              "    </tr>\n",
              "    <tr>\n",
              "      <th>50%</th>\n",
              "      <td>11.610000</td>\n",
              "    </tr>\n",
              "    <tr>\n",
              "      <th>75%</th>\n",
              "      <td>14.165000</td>\n",
              "    </tr>\n",
              "    <tr>\n",
              "      <th>max</th>\n",
              "      <td>16.720000</td>\n",
              "    </tr>\n",
              "  </tbody>\n",
              "</table>\n",
              "</div>\n",
              "      <button class=\"colab-df-convert\" onclick=\"convertToInteractive('df-e2ed76fc-1e6f-425e-bc1f-28a4edbdbcbe')\"\n",
              "              title=\"Convert this dataframe to an interactive table.\"\n",
              "              style=\"display:none;\">\n",
              "        \n",
              "  <svg xmlns=\"http://www.w3.org/2000/svg\" height=\"24px\"viewBox=\"0 0 24 24\"\n",
              "       width=\"24px\">\n",
              "    <path d=\"M0 0h24v24H0V0z\" fill=\"none\"/>\n",
              "    <path d=\"M18.56 5.44l.94 2.06.94-2.06 2.06-.94-2.06-.94-.94-2.06-.94 2.06-2.06.94zm-11 1L8.5 8.5l.94-2.06 2.06-.94-2.06-.94L8.5 2.5l-.94 2.06-2.06.94zm10 10l.94 2.06.94-2.06 2.06-.94-2.06-.94-.94-2.06-.94 2.06-2.06.94z\"/><path d=\"M17.41 7.96l-1.37-1.37c-.4-.4-.92-.59-1.43-.59-.52 0-1.04.2-1.43.59L10.3 9.45l-7.72 7.72c-.78.78-.78 2.05 0 2.83L4 21.41c.39.39.9.59 1.41.59.51 0 1.02-.2 1.41-.59l7.78-7.78 2.81-2.81c.8-.78.8-2.07 0-2.86zM5.41 20L4 18.59l7.72-7.72 1.47 1.35L5.41 20z\"/>\n",
              "  </svg>\n",
              "      </button>\n",
              "      \n",
              "  <style>\n",
              "    .colab-df-container {\n",
              "      display:flex;\n",
              "      flex-wrap:wrap;\n",
              "      gap: 12px;\n",
              "    }\n",
              "\n",
              "    .colab-df-convert {\n",
              "      background-color: #E8F0FE;\n",
              "      border: none;\n",
              "      border-radius: 50%;\n",
              "      cursor: pointer;\n",
              "      display: none;\n",
              "      fill: #1967D2;\n",
              "      height: 32px;\n",
              "      padding: 0 0 0 0;\n",
              "      width: 32px;\n",
              "    }\n",
              "\n",
              "    .colab-df-convert:hover {\n",
              "      background-color: #E2EBFA;\n",
              "      box-shadow: 0px 1px 2px rgba(60, 64, 67, 0.3), 0px 1px 3px 1px rgba(60, 64, 67, 0.15);\n",
              "      fill: #174EA6;\n",
              "    }\n",
              "\n",
              "    [theme=dark] .colab-df-convert {\n",
              "      background-color: #3B4455;\n",
              "      fill: #D2E3FC;\n",
              "    }\n",
              "\n",
              "    [theme=dark] .colab-df-convert:hover {\n",
              "      background-color: #434B5C;\n",
              "      box-shadow: 0px 1px 3px 1px rgba(0, 0, 0, 0.15);\n",
              "      filter: drop-shadow(0px 1px 2px rgba(0, 0, 0, 0.3));\n",
              "      fill: #FFFFFF;\n",
              "    }\n",
              "  </style>\n",
              "\n",
              "      <script>\n",
              "        const buttonEl =\n",
              "          document.querySelector('#df-e2ed76fc-1e6f-425e-bc1f-28a4edbdbcbe button.colab-df-convert');\n",
              "        buttonEl.style.display =\n",
              "          google.colab.kernel.accessAllowed ? 'block' : 'none';\n",
              "\n",
              "        async function convertToInteractive(key) {\n",
              "          const element = document.querySelector('#df-e2ed76fc-1e6f-425e-bc1f-28a4edbdbcbe');\n",
              "          const dataTable =\n",
              "            await google.colab.kernel.invokeFunction('convertToInteractive',\n",
              "                                                     [key], {});\n",
              "          if (!dataTable) return;\n",
              "\n",
              "          const docLinkHtml = 'Like what you see? Visit the ' +\n",
              "            '<a target=\"_blank\" href=https://colab.research.google.com/notebooks/data_table.ipynb>data table notebook</a>'\n",
              "            + ' to learn more about interactive tables.';\n",
              "          element.innerHTML = '';\n",
              "          dataTable['output_type'] = 'display_data';\n",
              "          await google.colab.output.renderOutput(dataTable, element);\n",
              "          const docLink = document.createElement('div');\n",
              "          docLink.innerHTML = docLinkHtml;\n",
              "          element.appendChild(docLink);\n",
              "        }\n",
              "      </script>\n",
              "    </div>\n",
              "  </div>\n",
              "  "
            ]
          },
          "metadata": {},
          "execution_count": 10
        }
      ]
    },
    {
      "cell_type": "code",
      "source": [
        "avg_temp_spring.describe()"
      ],
      "metadata": {
        "colab": {
          "base_uri": "https://localhost:8080/",
          "height": 300
        },
        "id": "__IkoYwFT6h_",
        "outputId": "68e13f5f-d5b6-44d9-e68a-b426fc7b1eb4"
      },
      "execution_count": null,
      "outputs": [
        {
          "output_type": "execute_result",
          "data": {
            "text/plain": [
              "            temp\n",
              "count   3.000000\n",
              "mean    9.650000\n",
              "std     4.695647\n",
              "min     5.000000\n",
              "25%     7.280000\n",
              "50%     9.560000\n",
              "75%    11.975000\n",
              "max    14.390000"
            ],
            "text/html": [
              "\n",
              "  <div id=\"df-b7720dfe-3a6a-4bd0-988c-204a7a37c1ab\">\n",
              "    <div class=\"colab-df-container\">\n",
              "      <div>\n",
              "<style scoped>\n",
              "    .dataframe tbody tr th:only-of-type {\n",
              "        vertical-align: middle;\n",
              "    }\n",
              "\n",
              "    .dataframe tbody tr th {\n",
              "        vertical-align: top;\n",
              "    }\n",
              "\n",
              "    .dataframe thead th {\n",
              "        text-align: right;\n",
              "    }\n",
              "</style>\n",
              "<table border=\"1\" class=\"dataframe\">\n",
              "  <thead>\n",
              "    <tr style=\"text-align: right;\">\n",
              "      <th></th>\n",
              "      <th>temp</th>\n",
              "    </tr>\n",
              "  </thead>\n",
              "  <tbody>\n",
              "    <tr>\n",
              "      <th>count</th>\n",
              "      <td>3.000000</td>\n",
              "    </tr>\n",
              "    <tr>\n",
              "      <th>mean</th>\n",
              "      <td>9.650000</td>\n",
              "    </tr>\n",
              "    <tr>\n",
              "      <th>std</th>\n",
              "      <td>4.695647</td>\n",
              "    </tr>\n",
              "    <tr>\n",
              "      <th>min</th>\n",
              "      <td>5.000000</td>\n",
              "    </tr>\n",
              "    <tr>\n",
              "      <th>25%</th>\n",
              "      <td>7.280000</td>\n",
              "    </tr>\n",
              "    <tr>\n",
              "      <th>50%</th>\n",
              "      <td>9.560000</td>\n",
              "    </tr>\n",
              "    <tr>\n",
              "      <th>75%</th>\n",
              "      <td>11.975000</td>\n",
              "    </tr>\n",
              "    <tr>\n",
              "      <th>max</th>\n",
              "      <td>14.390000</td>\n",
              "    </tr>\n",
              "  </tbody>\n",
              "</table>\n",
              "</div>\n",
              "      <button class=\"colab-df-convert\" onclick=\"convertToInteractive('df-b7720dfe-3a6a-4bd0-988c-204a7a37c1ab')\"\n",
              "              title=\"Convert this dataframe to an interactive table.\"\n",
              "              style=\"display:none;\">\n",
              "        \n",
              "  <svg xmlns=\"http://www.w3.org/2000/svg\" height=\"24px\"viewBox=\"0 0 24 24\"\n",
              "       width=\"24px\">\n",
              "    <path d=\"M0 0h24v24H0V0z\" fill=\"none\"/>\n",
              "    <path d=\"M18.56 5.44l.94 2.06.94-2.06 2.06-.94-2.06-.94-.94-2.06-.94 2.06-2.06.94zm-11 1L8.5 8.5l.94-2.06 2.06-.94-2.06-.94L8.5 2.5l-.94 2.06-2.06.94zm10 10l.94 2.06.94-2.06 2.06-.94-2.06-.94-.94-2.06-.94 2.06-2.06.94z\"/><path d=\"M17.41 7.96l-1.37-1.37c-.4-.4-.92-.59-1.43-.59-.52 0-1.04.2-1.43.59L10.3 9.45l-7.72 7.72c-.78.78-.78 2.05 0 2.83L4 21.41c.39.39.9.59 1.41.59.51 0 1.02-.2 1.41-.59l7.78-7.78 2.81-2.81c.8-.78.8-2.07 0-2.86zM5.41 20L4 18.59l7.72-7.72 1.47 1.35L5.41 20z\"/>\n",
              "  </svg>\n",
              "      </button>\n",
              "      \n",
              "  <style>\n",
              "    .colab-df-container {\n",
              "      display:flex;\n",
              "      flex-wrap:wrap;\n",
              "      gap: 12px;\n",
              "    }\n",
              "\n",
              "    .colab-df-convert {\n",
              "      background-color: #E8F0FE;\n",
              "      border: none;\n",
              "      border-radius: 50%;\n",
              "      cursor: pointer;\n",
              "      display: none;\n",
              "      fill: #1967D2;\n",
              "      height: 32px;\n",
              "      padding: 0 0 0 0;\n",
              "      width: 32px;\n",
              "    }\n",
              "\n",
              "    .colab-df-convert:hover {\n",
              "      background-color: #E2EBFA;\n",
              "      box-shadow: 0px 1px 2px rgba(60, 64, 67, 0.3), 0px 1px 3px 1px rgba(60, 64, 67, 0.15);\n",
              "      fill: #174EA6;\n",
              "    }\n",
              "\n",
              "    [theme=dark] .colab-df-convert {\n",
              "      background-color: #3B4455;\n",
              "      fill: #D2E3FC;\n",
              "    }\n",
              "\n",
              "    [theme=dark] .colab-df-convert:hover {\n",
              "      background-color: #434B5C;\n",
              "      box-shadow: 0px 1px 3px 1px rgba(0, 0, 0, 0.15);\n",
              "      filter: drop-shadow(0px 1px 2px rgba(0, 0, 0, 0.3));\n",
              "      fill: #FFFFFF;\n",
              "    }\n",
              "  </style>\n",
              "\n",
              "      <script>\n",
              "        const buttonEl =\n",
              "          document.querySelector('#df-b7720dfe-3a6a-4bd0-988c-204a7a37c1ab button.colab-df-convert');\n",
              "        buttonEl.style.display =\n",
              "          google.colab.kernel.accessAllowed ? 'block' : 'none';\n",
              "\n",
              "        async function convertToInteractive(key) {\n",
              "          const element = document.querySelector('#df-b7720dfe-3a6a-4bd0-988c-204a7a37c1ab');\n",
              "          const dataTable =\n",
              "            await google.colab.kernel.invokeFunction('convertToInteractive',\n",
              "                                                     [key], {});\n",
              "          if (!dataTable) return;\n",
              "\n",
              "          const docLinkHtml = 'Like what you see? Visit the ' +\n",
              "            '<a target=\"_blank\" href=https://colab.research.google.com/notebooks/data_table.ipynb>data table notebook</a>'\n",
              "            + ' to learn more about interactive tables.';\n",
              "          element.innerHTML = '';\n",
              "          dataTable['output_type'] = 'display_data';\n",
              "          await google.colab.output.renderOutput(dataTable, element);\n",
              "          const docLink = document.createElement('div');\n",
              "          docLink.innerHTML = docLinkHtml;\n",
              "          element.appendChild(docLink);\n",
              "        }\n",
              "      </script>\n",
              "    </div>\n",
              "  </div>\n",
              "  "
            ]
          },
          "metadata": {},
          "execution_count": 11
        }
      ]
    },
    {
      "cell_type": "code",
      "source": [
        "avg_temp_summer.describe()"
      ],
      "metadata": {
        "colab": {
          "base_uri": "https://localhost:8080/",
          "height": 300
        },
        "id": "eRa1uZ9QT_gT",
        "outputId": "f3532487-a358-4aaf-ba47-389f29cdb2af"
      },
      "execution_count": null,
      "outputs": [
        {
          "output_type": "execute_result",
          "data": {
            "text/plain": [
              "            temp\n",
              "count   3.000000\n",
              "mean   21.353333\n",
              "std     1.641016\n",
              "min    19.560000\n",
              "25%    20.640000\n",
              "50%    21.720000\n",
              "75%    22.250000\n",
              "max    22.780000"
            ],
            "text/html": [
              "\n",
              "  <div id=\"df-ffe2f2a3-3d10-4b3e-b792-8439bf4945e6\">\n",
              "    <div class=\"colab-df-container\">\n",
              "      <div>\n",
              "<style scoped>\n",
              "    .dataframe tbody tr th:only-of-type {\n",
              "        vertical-align: middle;\n",
              "    }\n",
              "\n",
              "    .dataframe tbody tr th {\n",
              "        vertical-align: top;\n",
              "    }\n",
              "\n",
              "    .dataframe thead th {\n",
              "        text-align: right;\n",
              "    }\n",
              "</style>\n",
              "<table border=\"1\" class=\"dataframe\">\n",
              "  <thead>\n",
              "    <tr style=\"text-align: right;\">\n",
              "      <th></th>\n",
              "      <th>temp</th>\n",
              "    </tr>\n",
              "  </thead>\n",
              "  <tbody>\n",
              "    <tr>\n",
              "      <th>count</th>\n",
              "      <td>3.000000</td>\n",
              "    </tr>\n",
              "    <tr>\n",
              "      <th>mean</th>\n",
              "      <td>21.353333</td>\n",
              "    </tr>\n",
              "    <tr>\n",
              "      <th>std</th>\n",
              "      <td>1.641016</td>\n",
              "    </tr>\n",
              "    <tr>\n",
              "      <th>min</th>\n",
              "      <td>19.560000</td>\n",
              "    </tr>\n",
              "    <tr>\n",
              "      <th>25%</th>\n",
              "      <td>20.640000</td>\n",
              "    </tr>\n",
              "    <tr>\n",
              "      <th>50%</th>\n",
              "      <td>21.720000</td>\n",
              "    </tr>\n",
              "    <tr>\n",
              "      <th>75%</th>\n",
              "      <td>22.250000</td>\n",
              "    </tr>\n",
              "    <tr>\n",
              "      <th>max</th>\n",
              "      <td>22.780000</td>\n",
              "    </tr>\n",
              "  </tbody>\n",
              "</table>\n",
              "</div>\n",
              "      <button class=\"colab-df-convert\" onclick=\"convertToInteractive('df-ffe2f2a3-3d10-4b3e-b792-8439bf4945e6')\"\n",
              "              title=\"Convert this dataframe to an interactive table.\"\n",
              "              style=\"display:none;\">\n",
              "        \n",
              "  <svg xmlns=\"http://www.w3.org/2000/svg\" height=\"24px\"viewBox=\"0 0 24 24\"\n",
              "       width=\"24px\">\n",
              "    <path d=\"M0 0h24v24H0V0z\" fill=\"none\"/>\n",
              "    <path d=\"M18.56 5.44l.94 2.06.94-2.06 2.06-.94-2.06-.94-.94-2.06-.94 2.06-2.06.94zm-11 1L8.5 8.5l.94-2.06 2.06-.94-2.06-.94L8.5 2.5l-.94 2.06-2.06.94zm10 10l.94 2.06.94-2.06 2.06-.94-2.06-.94-.94-2.06-.94 2.06-2.06.94z\"/><path d=\"M17.41 7.96l-1.37-1.37c-.4-.4-.92-.59-1.43-.59-.52 0-1.04.2-1.43.59L10.3 9.45l-7.72 7.72c-.78.78-.78 2.05 0 2.83L4 21.41c.39.39.9.59 1.41.59.51 0 1.02-.2 1.41-.59l7.78-7.78 2.81-2.81c.8-.78.8-2.07 0-2.86zM5.41 20L4 18.59l7.72-7.72 1.47 1.35L5.41 20z\"/>\n",
              "  </svg>\n",
              "      </button>\n",
              "      \n",
              "  <style>\n",
              "    .colab-df-container {\n",
              "      display:flex;\n",
              "      flex-wrap:wrap;\n",
              "      gap: 12px;\n",
              "    }\n",
              "\n",
              "    .colab-df-convert {\n",
              "      background-color: #E8F0FE;\n",
              "      border: none;\n",
              "      border-radius: 50%;\n",
              "      cursor: pointer;\n",
              "      display: none;\n",
              "      fill: #1967D2;\n",
              "      height: 32px;\n",
              "      padding: 0 0 0 0;\n",
              "      width: 32px;\n",
              "    }\n",
              "\n",
              "    .colab-df-convert:hover {\n",
              "      background-color: #E2EBFA;\n",
              "      box-shadow: 0px 1px 2px rgba(60, 64, 67, 0.3), 0px 1px 3px 1px rgba(60, 64, 67, 0.15);\n",
              "      fill: #174EA6;\n",
              "    }\n",
              "\n",
              "    [theme=dark] .colab-df-convert {\n",
              "      background-color: #3B4455;\n",
              "      fill: #D2E3FC;\n",
              "    }\n",
              "\n",
              "    [theme=dark] .colab-df-convert:hover {\n",
              "      background-color: #434B5C;\n",
              "      box-shadow: 0px 1px 3px 1px rgba(0, 0, 0, 0.15);\n",
              "      filter: drop-shadow(0px 1px 2px rgba(0, 0, 0, 0.3));\n",
              "      fill: #FFFFFF;\n",
              "    }\n",
              "  </style>\n",
              "\n",
              "      <script>\n",
              "        const buttonEl =\n",
              "          document.querySelector('#df-ffe2f2a3-3d10-4b3e-b792-8439bf4945e6 button.colab-df-convert');\n",
              "        buttonEl.style.display =\n",
              "          google.colab.kernel.accessAllowed ? 'block' : 'none';\n",
              "\n",
              "        async function convertToInteractive(key) {\n",
              "          const element = document.querySelector('#df-ffe2f2a3-3d10-4b3e-b792-8439bf4945e6');\n",
              "          const dataTable =\n",
              "            await google.colab.kernel.invokeFunction('convertToInteractive',\n",
              "                                                     [key], {});\n",
              "          if (!dataTable) return;\n",
              "\n",
              "          const docLinkHtml = 'Like what you see? Visit the ' +\n",
              "            '<a target=\"_blank\" href=https://colab.research.google.com/notebooks/data_table.ipynb>data table notebook</a>'\n",
              "            + ' to learn more about interactive tables.';\n",
              "          element.innerHTML = '';\n",
              "          dataTable['output_type'] = 'display_data';\n",
              "          await google.colab.output.renderOutput(dataTable, element);\n",
              "          const docLink = document.createElement('div');\n",
              "          docLink.innerHTML = docLinkHtml;\n",
              "          element.appendChild(docLink);\n",
              "        }\n",
              "      </script>\n",
              "    </div>\n",
              "  </div>\n",
              "  "
            ]
          },
          "metadata": {},
          "execution_count": 12
        }
      ]
    },
    {
      "cell_type": "code",
      "source": [
        "avg_temp_winter.describe()"
      ],
      "metadata": {
        "colab": {
          "base_uri": "https://localhost:8080/",
          "height": 300
        },
        "id": "UogVJrBkUB5y",
        "outputId": "7c6b7abb-154e-4ca3-9b2e-f665a5f37aae"
      },
      "execution_count": null,
      "outputs": [
        {
          "output_type": "execute_result",
          "data": {
            "text/plain": [
              "           temp\n",
              "count  3.000000\n",
              "mean   0.996667\n",
              "std    1.000017\n",
              "min    0.000000\n",
              "25%    0.495000\n",
              "50%    0.990000\n",
              "75%    1.495000\n",
              "max    2.000000"
            ],
            "text/html": [
              "\n",
              "  <div id=\"df-f94e24cb-181d-49d8-8863-b9a40f5301db\">\n",
              "    <div class=\"colab-df-container\">\n",
              "      <div>\n",
              "<style scoped>\n",
              "    .dataframe tbody tr th:only-of-type {\n",
              "        vertical-align: middle;\n",
              "    }\n",
              "\n",
              "    .dataframe tbody tr th {\n",
              "        vertical-align: top;\n",
              "    }\n",
              "\n",
              "    .dataframe thead th {\n",
              "        text-align: right;\n",
              "    }\n",
              "</style>\n",
              "<table border=\"1\" class=\"dataframe\">\n",
              "  <thead>\n",
              "    <tr style=\"text-align: right;\">\n",
              "      <th></th>\n",
              "      <th>temp</th>\n",
              "    </tr>\n",
              "  </thead>\n",
              "  <tbody>\n",
              "    <tr>\n",
              "      <th>count</th>\n",
              "      <td>3.000000</td>\n",
              "    </tr>\n",
              "    <tr>\n",
              "      <th>mean</th>\n",
              "      <td>0.996667</td>\n",
              "    </tr>\n",
              "    <tr>\n",
              "      <th>std</th>\n",
              "      <td>1.000017</td>\n",
              "    </tr>\n",
              "    <tr>\n",
              "      <th>min</th>\n",
              "      <td>0.000000</td>\n",
              "    </tr>\n",
              "    <tr>\n",
              "      <th>25%</th>\n",
              "      <td>0.495000</td>\n",
              "    </tr>\n",
              "    <tr>\n",
              "      <th>50%</th>\n",
              "      <td>0.990000</td>\n",
              "    </tr>\n",
              "    <tr>\n",
              "      <th>75%</th>\n",
              "      <td>1.495000</td>\n",
              "    </tr>\n",
              "    <tr>\n",
              "      <th>max</th>\n",
              "      <td>2.000000</td>\n",
              "    </tr>\n",
              "  </tbody>\n",
              "</table>\n",
              "</div>\n",
              "      <button class=\"colab-df-convert\" onclick=\"convertToInteractive('df-f94e24cb-181d-49d8-8863-b9a40f5301db')\"\n",
              "              title=\"Convert this dataframe to an interactive table.\"\n",
              "              style=\"display:none;\">\n",
              "        \n",
              "  <svg xmlns=\"http://www.w3.org/2000/svg\" height=\"24px\"viewBox=\"0 0 24 24\"\n",
              "       width=\"24px\">\n",
              "    <path d=\"M0 0h24v24H0V0z\" fill=\"none\"/>\n",
              "    <path d=\"M18.56 5.44l.94 2.06.94-2.06 2.06-.94-2.06-.94-.94-2.06-.94 2.06-2.06.94zm-11 1L8.5 8.5l.94-2.06 2.06-.94-2.06-.94L8.5 2.5l-.94 2.06-2.06.94zm10 10l.94 2.06.94-2.06 2.06-.94-2.06-.94-.94-2.06-.94 2.06-2.06.94z\"/><path d=\"M17.41 7.96l-1.37-1.37c-.4-.4-.92-.59-1.43-.59-.52 0-1.04.2-1.43.59L10.3 9.45l-7.72 7.72c-.78.78-.78 2.05 0 2.83L4 21.41c.39.39.9.59 1.41.59.51 0 1.02-.2 1.41-.59l7.78-7.78 2.81-2.81c.8-.78.8-2.07 0-2.86zM5.41 20L4 18.59l7.72-7.72 1.47 1.35L5.41 20z\"/>\n",
              "  </svg>\n",
              "      </button>\n",
              "      \n",
              "  <style>\n",
              "    .colab-df-container {\n",
              "      display:flex;\n",
              "      flex-wrap:wrap;\n",
              "      gap: 12px;\n",
              "    }\n",
              "\n",
              "    .colab-df-convert {\n",
              "      background-color: #E8F0FE;\n",
              "      border: none;\n",
              "      border-radius: 50%;\n",
              "      cursor: pointer;\n",
              "      display: none;\n",
              "      fill: #1967D2;\n",
              "      height: 32px;\n",
              "      padding: 0 0 0 0;\n",
              "      width: 32px;\n",
              "    }\n",
              "\n",
              "    .colab-df-convert:hover {\n",
              "      background-color: #E2EBFA;\n",
              "      box-shadow: 0px 1px 2px rgba(60, 64, 67, 0.3), 0px 1px 3px 1px rgba(60, 64, 67, 0.15);\n",
              "      fill: #174EA6;\n",
              "    }\n",
              "\n",
              "    [theme=dark] .colab-df-convert {\n",
              "      background-color: #3B4455;\n",
              "      fill: #D2E3FC;\n",
              "    }\n",
              "\n",
              "    [theme=dark] .colab-df-convert:hover {\n",
              "      background-color: #434B5C;\n",
              "      box-shadow: 0px 1px 3px 1px rgba(0, 0, 0, 0.15);\n",
              "      filter: drop-shadow(0px 1px 2px rgba(0, 0, 0, 0.3));\n",
              "      fill: #FFFFFF;\n",
              "    }\n",
              "  </style>\n",
              "\n",
              "      <script>\n",
              "        const buttonEl =\n",
              "          document.querySelector('#df-f94e24cb-181d-49d8-8863-b9a40f5301db button.colab-df-convert');\n",
              "        buttonEl.style.display =\n",
              "          google.colab.kernel.accessAllowed ? 'block' : 'none';\n",
              "\n",
              "        async function convertToInteractive(key) {\n",
              "          const element = document.querySelector('#df-f94e24cb-181d-49d8-8863-b9a40f5301db');\n",
              "          const dataTable =\n",
              "            await google.colab.kernel.invokeFunction('convertToInteractive',\n",
              "                                                     [key], {});\n",
              "          if (!dataTable) return;\n",
              "\n",
              "          const docLinkHtml = 'Like what you see? Visit the ' +\n",
              "            '<a target=\"_blank\" href=https://colab.research.google.com/notebooks/data_table.ipynb>data table notebook</a>'\n",
              "            + ' to learn more about interactive tables.';\n",
              "          element.innerHTML = '';\n",
              "          dataTable['output_type'] = 'display_data';\n",
              "          await google.colab.output.renderOutput(dataTable, element);\n",
              "          const docLink = document.createElement('div');\n",
              "          docLink.innerHTML = docLinkHtml;\n",
              "          element.appendChild(docLink);\n",
              "        }\n",
              "      </script>\n",
              "    </div>\n",
              "  </div>\n",
              "  "
            ]
          },
          "metadata": {},
          "execution_count": 13
        }
      ]
    },
    {
      "cell_type": "markdown",
      "source": [
        "\n",
        "Question 9: Plot Data From Pandas Dataframes\n",
        "---\n",
        "Manually create a new pandas dataframe containing the calculated mean value for each season and the name of the season.\n",
        "\n",
        "Plot this new pandas dataframe using the plot type and colors of your choosing."
      ],
      "metadata": {
        "id": "PUMRYLcqUHZM"
      }
    },
    {
      "cell_type": "code",
      "source": [
        "#1 Criar uma nova variável com a estatística de cada estação\n",
        "avg_temp_winter_estatistica = avg_temp_winter.describe()\n",
        "#print(avg_temp_winter_estatistica)\n",
        "#2 Criar uma nova variável só com a média\n",
        "avg_temp_winter_mean = avg_temp_winter_estatistica.iloc[1:2,:]\n",
        "print(avg_temp_winter_mean)\n",
        "# Fazer com os demais\n",
        "avg_temp_summer_estatistica = avg_temp_summer.describe()\n",
        "avg_temp_summer_mean = avg_temp_summer_estatistica.iloc[1:2,:]\n",
        "avg_temp_fall_estatistica = avg_temp_fall.describe()\n",
        "avg_temp_fall_mean = avg_temp_fall_estatistica.iloc[1:2,:]\n",
        "avg_temp_spring_estatistica = avg_temp_spring.describe()\n",
        "avg_temp_spring_mean = avg_temp_spring_estatistica.iloc[1:2,:]\n",
        "#criar um data frame com os valores\n",
        "pontos_graficos = pd.DataFrame([[\"spring\", 9.650000], [\"summer\", 21.353333], [\"winter\", 0.996667], [\"fall\", 11.073333]], columns = [\"estacoes\", \"mean\"])\n",
        "print(pontos_graficos)\n",
        "\n",
        "\n",
        "#1 Escreve o código do graficuzinho\n",
        "plt.rcParams[\"figure.figsize\"] = (5, 5)\n",
        "#2 criar um subplot para importar os dados\n",
        "fig, ax = plt.subplots()\n",
        "#3 definir o eixo x e y\n",
        "ax.scatter(pontos_graficos[\"estacoes\"], pontos_graficos[\"mean\"], color=\"gray\")"
      ],
      "metadata": {
        "colab": {
          "base_uri": "https://localhost:8080/",
          "height": 466
        },
        "id": "gasKQjcnUrxA",
        "outputId": "3687b91f-70c4-47ac-a45b-f7ea07718482"
      },
      "execution_count": null,
      "outputs": [
        {
          "output_type": "stream",
          "name": "stdout",
          "text": [
            "          temp\n",
            "mean  0.996667\n",
            "  estacoes       mean\n",
            "0   spring   9.650000\n",
            "1   summer  21.353333\n",
            "2   winter   0.996667\n",
            "3     fall  11.073333\n"
          ]
        },
        {
          "output_type": "execute_result",
          "data": {
            "text/plain": [
              "<matplotlib.collections.PathCollection at 0x7f52364aca30>"
            ]
          },
          "metadata": {},
          "execution_count": 14
        },
        {
          "output_type": "display_data",
          "data": {
            "text/plain": [
              "<Figure size 360x360 with 1 Axes>"
            ],
            "image/png": "[encoded data removed]"
          },
          "metadata": {
            "needs_background": "light"
          }
        }
      ]
    },
    {
      "cell_type": "markdown",
      "source": [],
      "metadata": {
        "id": "7LTVYUjFQatC"
      }
    },
    {
      "cell_type": "markdown",
      "source": [
        "Question 10: Calculate the mean temperature manually\n",
        "---\n",
        "Manually calculate the mean temperature of the avg-temp-months-seasons.csv file. Use a for loop to iterate over all months."
      ],
      "metadata": {
        "id": "FMUEVR44Qdxn"
      }
    },
    {
      "cell_type": "code",
      "source": [
        "#1° vamo vê os valores da temp\n",
        "print(avg_temp)\n",
        "#2°vamo criar a lista\n",
        "temp_avg = np.array([0.00, 2.00, 5.00, 9.56, 14.39, 19.56, 22.78, 21.72, 16.72, 11.61, 4.89, 0.99])\n",
        "#3° vamo vê se deu certo\n",
        "print(temp_avg)\n",
        "#4° Criar a lsita\n",
        "arraylist = temp_avg\n",
        "#5° Fazer o loop\n",
        "mean_temp = np.median(temp_avg)\n",
        "print(mean_temp)\n",
        "\n"
      ],
      "metadata": {
        "id": "qgKwlpMfQh9i",
        "colab": {
          "base_uri": "https://localhost:8080/"
        },
        "outputId": "0c460fde-13a6-4090-ed73-40d08a32a5ab"
      },
      "execution_count": null,
      "outputs": [
        {
          "output_type": "stream",
          "name": "stdout",
          "text": [
            "   months   temp seasons\n",
            "0     Jan   0.00  Winter\n",
            "1     Feb   2.00  Winter\n",
            "2     Mar   5.00  Spring\n",
            "3     Apr   9.56  Spring\n",
            "4     May  14.39  Spring\n",
            "5    June  19.56  Summer\n",
            "6    July  22.78  Summer\n",
            "7     Aug  21.72  Summer\n",
            "8    Sept  16.72    Fall\n",
            "9     Oct  11.61    Fall\n",
            "10    Nov   4.89    Fall\n",
            "11    Dec   0.99  Winter\n",
            "[ 0.    2.    5.    9.56 14.39 19.56 22.78 21.72 16.72 11.61  4.89  0.99]\n",
            "10.585\n"
          ]
        }
      ]
    },
    {
      "cell_type": "markdown",
      "source": [
        "Question 11: Calculate the mean temperature manually of each season\n",
        "---\n",
        "Load the file avg-temp-months-seasons.csv into a pandas dataframe. Then, combine the appropriate pandas dataframe method with a for loop to calculate the mean of each season separately."
      ],
      "metadata": {
        "id": "9wEAI6BAWNCn"
      }
    },
    {
      "cell_type": "code",
      "source": [
        "#1° Vamos criar o pandinha\n",
        "avg_temp = pd.read_csv(\"/data/avg-temp-months-seasons.csv\")\n",
        "print(avg_temp)\n",
        "#2°Cria arraylist\n",
        "array_winter = []\n",
        "#3°criar o loop indexado com as temporadas\n",
        "for index in avg_temp.index:\n",
        "   if avg_temp['seasons'][index] == \"Winter\":\n",
        "    array_winter.append(avg_temp['temp'][index])\n",
        "arraynp_winter = np.array(array_winter)\n",
        "print(arraynp_winter)\n",
        "mean_temp_winter = np.median(arraynp_winter)\n",
        "print(mean_temp_winter)\n",
        "#4°fazer com as demais estações (spring)\n",
        "array_spring = []\n",
        "for index in avg_temp.index:\n",
        "  if avg_temp['seasons'][index] == \"Spring\":\n",
        "    array_spring.append(avg_temp['temp'][index])\n",
        "arraynp_spring = np.array(array_spring)\n",
        "print(array_spring)\n",
        "mean_temp_spring = np.median(array_spring)\n",
        "print(mean_temp_spring)\n",
        "#5° Fazer com Summer\n",
        "array_summer = []\n",
        "for index in avg_temp.index:\n",
        "  if avg_temp['seasons'][index] == \"Summer\":\n",
        "    array_summer.append(avg_temp['temp'][index])\n",
        "arraynp_summer = np.array(array_summer)\n",
        "print(array_summer)\n",
        "mean_temp_summer = np.median(array_summer)\n",
        "print(mean_temp_summer)\n",
        "#6° Fazer com Fall\n",
        "array_fall = []\n",
        "for index in avg_temp.index:\n",
        "  if avg_temp['seasons'][index] == \"Fall\":\n",
        "    array_fall.append(avg_temp['temp'][index])\n",
        "arraynp_fall = np.array(array_fall)\n",
        "print(array_fall)\n",
        "mean_temp_fall = np.median(array_fall)\n",
        "print(mean_temp_fall)"
      ],
      "metadata": {
        "colab": {
          "base_uri": "https://localhost:8080/"
        },
        "id": "hW_Zhs5LY62M",
        "outputId": "804c1f8b-abd1-40d2-c3c9-43224b8bb55f"
      },
      "execution_count": null,
      "outputs": [
        {
          "output_type": "stream",
          "name": "stdout",
          "text": [
            "   months   temp seasons\n",
            "0     Jan   0.00  Winter\n",
            "1     Feb   2.00  Winter\n",
            "2     Mar   5.00  Spring\n",
            "3     Apr   9.56  Spring\n",
            "4     May  14.39  Spring\n",
            "5    June  19.56  Summer\n",
            "6    July  22.78  Summer\n",
            "7     Aug  21.72  Summer\n",
            "8    Sept  16.72    Fall\n",
            "9     Oct  11.61    Fall\n",
            "10    Nov   4.89    Fall\n",
            "11    Dec   0.99  Winter\n",
            "[0.   2.   0.99]\n",
            "0.99\n",
            "[5.0, 9.56, 14.39]\n",
            "9.56\n",
            "[19.56, 22.78, 21.72]\n",
            "21.72\n",
            "[16.72, 11.61, 4.89]\n",
            "11.61\n"
          ]
        }
      ]
    },
    {
      "cell_type": "markdown",
      "source": [
        "Get Data\n",
        "---\n",
        "Numpy Arrays\n",
        "Use .urllib.request to download the following .csv files of monthly precipitation (inches) and import the data to numpy arrays:\n",
        "\n",
        "monthly-precip-1988-to-1992.csv from https://ndownloader.figshare.com/files/12807380\n",
        "\n",
        "monthly-precip-1993-to-1997.csv from https://ndownloader.figshare.com/files/12807383\n",
        "\n",
        "Each dataset contains a row for each year specified in the dataset name and contains a column for each month (starting with January through December).\n",
        "\n",
        "Pandas Dataframes\n",
        "Use .urllib.request to download the following .csv files of monthly temperature (Fahrenheit) and import the data to pandas dataframes:\n",
        "\n",
        "temp-1991-to-1995-months.csv from https://ndownloader.figshare.com/files/12807389\n",
        "\n",
        "temp-1996-to-2000-months.csv from https://ndownloader.figshare.com/files/12807386\n",
        "\n",
        "Each dataset contains a row for each year specified in the dataset name and a column for each month (starting with January through December).\n",
        "\n",
        "Note: you are not required to write a loop to accomplish these tasks. You can follow the same process that you have before to download and import files."
      ],
      "metadata": {
        "id": "UP2He4Trbunm"
      }
    },
    {
      "cell_type": "code",
      "source": [
        "#1° Importar usando Numpy Arrays\n",
        "urllib.request.urlretrieve(url = \"https://ndownloader.figshare.com/files/12807380\",\n",
        "                           filename = \"/data/monthly-precip-1988-to-1992.csv\")\n",
        "urllib.request.urlretrieve(url = \"https://ndownloader.figshare.com/files/12807383\",\n",
        "                           filename = \"/data/monthly-precip-1993-to-1997.csv\")\n",
        "#2° Criar o Np arrays\n",
        "precip_1988_1992 = np.loadtxt('/data/monthly-precip-1988-to-1992.csv', delimiter=',')\n",
        "print(precip_1988_1992)\n",
        "precip_1993_1997 = np.loadtxt('/data/monthly-precip-1993-to-1997.csv', delimiter=',')\n",
        "print(precip_1993_1997)\n",
        "#3° Importar os outros usando Numpy\n",
        "urllib.request.urlretrieve(url = \"https://ndownloader.figshare.com/files/12807389\",\n",
        "                           filename = \"/data/temp-1991-to-1995-months.csv\")\n",
        "urllib.request.urlretrieve(url = \"https://ndownloader.figshare.com/files/12807386\",\n",
        "                           filename = \"/data/temp-1996-to-2000-months.csv\")\n",
        "print(\"pandinha e np deram certo\")\n",
        "#4° Criar os pandas\n",
        "temp_1991_1995 = pd.read_csv(\"/data/temp-1991-to-1995-months.csv\")\n",
        "print(temp_1991_1995)\n",
        "temp_1996_2000 = pd.read_csv(\"/data/temp-1996-to-2000-months.csv\")\n",
        "print(temp_1996_2000)"
      ],
      "metadata": {
        "colab": {
          "base_uri": "https://localhost:8080/"
        },
        "id": "BzLmEH5gdHu7",
        "outputId": "affdb39c-a7d7-4865-d13d-d6c6b5ed6a86"
      },
      "execution_count": null,
      "outputs": [
        {
          "output_type": "stream",
          "name": "stdout",
          "text": [
            "[[0.4  1.14 2.53 1.48 3.7  0.7  0.71 1.33 2.02 0.03 0.75 2.16]\n",
            " [1.19 1.27 0.97 1.95 2.68 2.93 1.43 1.63 3.54 1.4  0.09 1.54]\n",
            " [1.04 1.32 4.55 2.16 1.73 0.39 4.23 1.13 1.84 0.96 1.6  0.75]\n",
            " [1.05 0.15 0.43 2.41 2.9  3.59 3.11 2.08 1.21 0.93 3.3  0.01]\n",
            " [0.67 0.   5.17 0.46 1.7  0.96 1.13 3.08 0.02 0.79 2.56 0.84]]\n",
            "[[0.25 0.9  2.15 2.56 1.73 3.38 1.4  1.04 3.32 2.42 2.17 0.55]\n",
            " [0.86 1.37 1.61 3.46 1.35 0.93 0.35 2.56 0.54 1.02 2.25 0.49]\n",
            " [0.64 1.53 1.21 5.45 9.59 4.03 0.72 1.45 2.96 0.59 1.51 0.25]\n",
            " [1.89 0.29 2.16 1.49 4.63 2.77 1.96 0.63 3.48 0.28 1.43 0.37]\n",
            " [0.87 1.83 0.91 5.77 2.19 3.69 1.14 5.27 1.92 2.7  1.52 0.68]]\n",
            "pandinha e np deram certo\n",
            "   Year  January  February  March  April   May  June  July  August  September  \\\n",
            "0  1991     29.9      40.9   42.8   47.8  58.2  66.6  70.5    69.2       61.7   \n",
            "1  1992     35.9      40.6   43.3   54.3  59.1  62.9  68.3    66.3       64.4   \n",
            "2  1993     28.3      30.6   42.4   47.6  57.5  64.5  69.5    67.3       58.8   \n",
            "3  1994     35.5      31.9   43.9   47.6  60.8  70.0  71.2    70.9       65.0   \n",
            "4  1995     34.5      38.3   42.1   45.1  50.9  62.4  70.5    74.0       60.4   \n",
            "\n",
            "   October  November  December  \n",
            "0     52.1      36.8      35.3  \n",
            "1     54.1      34.1      29.2  \n",
            "2     48.7      35.6      35.4  \n",
            "3     50.6      36.6      36.1  \n",
            "4     50.5      45.0      36.3  \n",
            "   Year  January  February  March  April   May  June  July  August  September  \\\n",
            "0  1996     29.7      37.7   37.9   50.4  58.9  66.9  71.5    69.5       60.8   \n",
            "1  1997     31.3      32.8   45.5   42.8  57.4  66.5  71.4    68.7       64.0   \n",
            "2  1998     36.5      36.4   38.7   46.5  58.8  62.1  72.8    70.7       67.1   \n",
            "3  1999     36.4      42.1   46.0   44.5  55.6  64.8  73.5    69.3       58.5   \n",
            "4  2000     36.4      41.0   42.9   51.2  61.0  67.4  74.7    73.0       63.1   \n",
            "\n",
            "   October  November  December  \n",
            "0     53.1      40.6      36.5  \n",
            "1     52.7      37.9      33.9  \n",
            "2     50.4      44.0      32.2  \n",
            "3     51.9      48.0      36.9  \n",
            "4     49.6      31.4      31.2  \n"
          ]
        }
      ]
    },
    {
      "cell_type": "markdown",
      "source": [
        "Question 12: Use Indexing to Select from Numpy Array\n",
        "---\n",
        "Select the second row of data (including all columns) from the numpy array containing the data for 1988 to 1992, and save to a new numpy array.\n",
        "\n",
        "\n",
        "Note that using an index series (e.g. [row_index:row_index, column_index:column_index]) to select the rows and columns will result in a two-dimensional array.\n",
        "\n",
        "\n",
        "Name your new array appropriately to indicate the year of data that it represents.\n",
        "\n",
        "\n",
        "array([[1.19, 1.27, 0.97, 1.95, 2.68, 2.93, 1.43, 1.63, 3.54, 1.4 , 0.09,\n",
        "        1.54]])"
      ],
      "metadata": {
        "id": "028SC2-QlU7-"
      }
    },
    {
      "cell_type": "code",
      "source": [
        "#Usar a index para fazer\n",
        "precip_linha_2 = precip_1988_1992[1:2,0:12]\n",
        "print(precip_linha_2)"
      ],
      "metadata": {
        "colab": {
          "base_uri": "https://localhost:8080/"
        },
        "id": "N7IT2mnulbnP",
        "outputId": "849e28ae-81c1-4ad0-9ec8-3320a81aff36"
      },
      "execution_count": null,
      "outputs": [
        {
          "output_type": "stream",
          "name": "stdout",
          "text": [
            "[[1.19 1.27 0.97 1.95 2.68 2.93 1.43 1.63 3.54 1.4  0.09 1.54]]\n"
          ]
        }
      ]
    },
    {
      "cell_type": "markdown",
      "source": [
        "Question 13: Write a Conditional Statement to Check Dimensions of Numpy Array\n",
        "Write a conditional statement that checks whether the numpy array created in the previous question (i.e. the selection) is a one-dimensional numpy array.\n",
        "---\n",
        "Print a message stating whether or not the array is one-dimensional.\n",
        "\n",
        "Hints:\n",
        "\n",
        "It is easier to write this conditional statement using the attribute of numpy arrays that provides a single value for the dimension (i.e. .ndim), rather than the shape.\n",
        "\n",
        "Recall how to use the comparison operator to check for equality between values (==).\n",
        "\n",
        "This is NOT a one-dimensional array."
      ],
      "metadata": {
        "id": "BKD13ggbqaRR"
      }
    },
    {
      "cell_type": "code",
      "source": [
        "\n",
        "x = np.ndim(precip_linha_2)\n",
        "if x == 1:\n",
        "  print(\"x is one-dimenssional\")\n",
        "else:\n",
        "  print(\"x is NOT one-dimenssional.\")"
      ],
      "metadata": {
        "colab": {
          "base_uri": "https://localhost:8080/"
        },
        "id": "XNyXLw0wepq1",
        "outputId": "a042bddd-2ea7-4f2b-ac6a-90044178194b"
      },
      "execution_count": null,
      "outputs": [
        {
          "output_type": "stream",
          "name": "stdout",
          "text": [
            "x is NOT one-dimenssional.\n"
          ]
        }
      ]
    },
    {
      "cell_type": "markdown",
      "source": [
        "Question 14: Expand Conditional Statement to Execute Different Code\n",
        "---\n",
        "Modify your conditional statement from the previous question, so that your if and else statements execute different code, not just printing messages.\n",
        "\n",
        "For the if statement, rather than printing a message, print the shape of the numpy array from the previous question (i.e. the selection).\n",
        "\n",
        "For the else statement, rather than printing a message, include the following code lines to be executed (i.e. if the array is not one-dimensional):\n",
        "\n",
        "arrayname_1d = arrayname.flatten()\n",
        "print(arrayname_1d.shape)\n",
        "These code lines will flatten a numpy array (in this case named arrayname) to a one-dimensional array, save it to a new array called arrayname_1d, and print the shape of the new array.\n",
        "\n",
        "Note the result of this conditional statement."
      ],
      "metadata": {
        "id": "PbOeUcFtlx3T"
      }
    },
    {
      "cell_type": "code",
      "source": [
        "#1° Fazer um np.array para o flatten funcionar\n",
        "array_2d = np.array(precip_1988_1992[1:2,0:12])\n",
        "#2° copiar os códigos do enunciado mudando os nomes\n",
        "x = np.ndim(array_2d)\n",
        "if x == 1:\n",
        "  print(array_2d.shape)\n",
        "else:\n",
        "  arrayname_1d = array_2d.flatten()\n",
        "  print(arrayname_1d.shape)\n",
        "\n",
        "\n",
        "\n",
        "\n",
        "\n"
      ],
      "metadata": {
        "colab": {
          "base_uri": "https://localhost:8080/"
        },
        "id": "UQZkuzEYcc0X",
        "outputId": "610bb897-e3b8-4d77-8b29-0a91f3e9033b"
      },
      "execution_count": null,
      "outputs": [
        {
          "output_type": "stream",
          "name": "stdout",
          "text": [
            "(12,)\n"
          ]
        }
      ]
    },
    {
      "cell_type": "markdown",
      "source": [
        "Question 15: Write a Conditional Statement to Check Dimensions of Two Numpy Arrays\n",
        "---\n",
        "Manually create a one-dimensional numpy array that contains the month names (i.e. January to December).\n",
        "\n",
        "Write a conditional statement to check that this new array for month names has the same shape as the numpy array from the previous question (i.e. the selection).\n",
        "\n",
        "Print a message stating whether are not these arrays have the same shape and can be plotted together.\n",
        "\n",
        "Hints:\n",
        "\n",
        "Review the Activity on Data Structures from Day 6 if you need to recall how to manually create a numpy array using np.array([]).\n",
        "\n",
        "Note that you are creating this new array using text strings, not numeric values.\n",
        "\n",
        "Recall how to use the comparison operator to check for equality between values (==).\n",
        "\n",
        "These arrays have the same shape and can be plotted together."
      ],
      "metadata": {
        "id": "7rbVOpGHjR1Z"
      }
    },
    {
      "cell_type": "code",
      "source": [
        "#1° Criar o array\n",
        "meses = np.array([\"Jan\", \"Fev\", \"Mar\", \"Abr\", \"Mai\", \"Jun\", \"Jul\", \"Ago\", \"Set\", \"Out\", \"Nov\", \"Dez\"])\n",
        "print(meses)\n",
        "#2°Criar as condicionais\n",
        "x = meses.shape\n",
        "if x == arrayname_1d.shape:\n",
        "  print(\"arrays tem o mesmo shape e podem ser plotados juntos\")\n",
        "else:\n",
        "  print(\"tem que refazer tudo\")"
      ],
      "metadata": {
        "colab": {
          "base_uri": "https://localhost:8080/"
        },
        "id": "V0RMWeWGjXix",
        "outputId": "6dbf3dc2-477a-4a4c-f53f-077ba367d2dd"
      },
      "execution_count": null,
      "outputs": [
        {
          "output_type": "stream",
          "name": "stdout",
          "text": [
            "['Jan' 'Fev' 'Mar' 'Abr' 'Mai' 'Jun' 'Jul' 'Ago' 'Set' 'Out' 'Nov' 'Dez']\n",
            "arrays tem o mesmo shape e podem ser plotados juntos\n"
          ]
        }
      ]
    },
    {
      "cell_type": "markdown",
      "source": [
        "Question 16: Loop on Pandas Dataframes\n",
        "---\n",
        "Write a loop to run the info() method on the two pandas dataframes that you imported in this activity, and print the results.\n",
        "\n",
        "Hint:\n",
        "\n",
        "Recall that creating a list of items to iterate upon is a good first step to writing a loop.\n",
        "Think about what you are iterating upon in this question - do your list values need \"\" to indicate text strings, or are you iterating on existing variables?"
      ],
      "metadata": {
        "id": "_A2hoaS9nbeE"
      }
    },
    {
      "cell_type": "code",
      "source": [
        "#temp_1991_1995.info()\n",
        "#1° Cria uma linda com dois pandas\n",
        "array = [temp_1991_1995, temp_1996_2000]\n",
        "#faz uma interação com cada pandinha\n",
        "for array in arraylist:\n",
        "\n",
        "\n",
        "    print(pd.info())\n",
        "#for pd in pandalist:\n",
        " # pd = pandalist.info()\n"
      ],
      "metadata": {
        "colab": {
          "base_uri": "https://localhost:8080/"
        },
        "id": "NBC0QV9IovwI",
        "outputId": "7253b365-47f6-4af5-b45c-84fc60c4c86c"
      },
      "execution_count": null,
      "outputs": [
        {
          "output_type": "stream",
          "name": "stdout",
          "text": [
            "<class 'pandas.core.frame.DataFrame'>\n",
            "RangeIndex: 5 entries, 0 to 4\n",
            "Data columns (total 13 columns):\n",
            " #   Column     Non-Null Count  Dtype  \n",
            "---  ------     --------------  -----  \n",
            " 0   Year       5 non-null      int64  \n",
            " 1   January    5 non-null      float64\n",
            " 2   February   5 non-null      float64\n",
            " 3   March      5 non-null      float64\n",
            " 4   April      5 non-null      float64\n",
            " 5   May        5 non-null      float64\n",
            " 6   June       5 non-null      float64\n",
            " 7   July       5 non-null      float64\n",
            " 8   August     5 non-null      float64\n",
            " 9   September  5 non-null      float64\n",
            " 10  October    5 non-null      float64\n",
            " 11  November   5 non-null      float64\n",
            " 12  December   5 non-null      float64\n",
            "dtypes: float64(12), int64(1)\n",
            "memory usage: 648.0 bytes\n",
            "None\n",
            "<class 'pandas.core.frame.DataFrame'>\n",
            "RangeIndex: 5 entries, 0 to 4\n",
            "Data columns (total 13 columns):\n",
            " #   Column     Non-Null Count  Dtype  \n",
            "---  ------     --------------  -----  \n",
            " 0   Year       5 non-null      int64  \n",
            " 1   January    5 non-null      float64\n",
            " 2   February   5 non-null      float64\n",
            " 3   March      5 non-null      float64\n",
            " 4   April      5 non-null      float64\n",
            " 5   May        5 non-null      float64\n",
            " 6   June       5 non-null      float64\n",
            " 7   July       5 non-null      float64\n",
            " 8   August     5 non-null      float64\n",
            " 9   September  5 non-null      float64\n",
            " 10  October    5 non-null      float64\n",
            " 11  November   5 non-null      float64\n",
            " 12  December   5 non-null      float64\n",
            "dtypes: float64(12), int64(1)\n",
            "memory usage: 648.0 bytes\n",
            "None\n",
            "<class 'pandas.core.frame.DataFrame'>\n",
            "RangeIndex: 5 entries, 0 to 4\n",
            "Data columns (total 13 columns):\n",
            " #   Column     Non-Null Count  Dtype  \n",
            "---  ------     --------------  -----  \n",
            " 0   Year       5 non-null      int64  \n",
            " 1   January    5 non-null      float64\n",
            " 2   February   5 non-null      float64\n",
            " 3   March      5 non-null      float64\n",
            " 4   April      5 non-null      float64\n",
            " 5   May        5 non-null      float64\n",
            " 6   June       5 non-null      float64\n",
            " 7   July       5 non-null      float64\n",
            " 8   August     5 non-null      float64\n",
            " 9   September  5 non-null      float64\n",
            " 10  October    5 non-null      float64\n",
            " 11  November   5 non-null      float64\n",
            " 12  December   5 non-null      float64\n",
            "dtypes: float64(12), int64(1)\n",
            "memory usage: 648.0 bytes\n",
            "None\n",
            "<class 'pandas.core.frame.DataFrame'>\n",
            "RangeIndex: 5 entries, 0 to 4\n",
            "Data columns (total 13 columns):\n",
            " #   Column     Non-Null Count  Dtype  \n",
            "---  ------     --------------  -----  \n",
            " 0   Year       5 non-null      int64  \n",
            " 1   January    5 non-null      float64\n",
            " 2   February   5 non-null      float64\n",
            " 3   March      5 non-null      float64\n",
            " 4   April      5 non-null      float64\n",
            " 5   May        5 non-null      float64\n",
            " 6   June       5 non-null      float64\n",
            " 7   July       5 non-null      float64\n",
            " 8   August     5 non-null      float64\n",
            " 9   September  5 non-null      float64\n",
            " 10  October    5 non-null      float64\n",
            " 11  November   5 non-null      float64\n",
            " 12  December   5 non-null      float64\n",
            "dtypes: float64(12), int64(1)\n",
            "memory usage: 648.0 bytes\n",
            "None\n",
            "<class 'pandas.core.frame.DataFrame'>\n",
            "RangeIndex: 5 entries, 0 to 4\n",
            "Data columns (total 13 columns):\n",
            " #   Column     Non-Null Count  Dtype  \n",
            "---  ------     --------------  -----  \n",
            " 0   Year       5 non-null      int64  \n",
            " 1   January    5 non-null      float64\n",
            " 2   February   5 non-null      float64\n",
            " 3   March      5 non-null      float64\n",
            " 4   April      5 non-null      float64\n",
            " 5   May        5 non-null      float64\n",
            " 6   June       5 non-null      float64\n",
            " 7   July       5 non-null      float64\n",
            " 8   August     5 non-null      float64\n",
            " 9   September  5 non-null      float64\n",
            " 10  October    5 non-null      float64\n",
            " 11  November   5 non-null      float64\n",
            " 12  December   5 non-null      float64\n",
            "dtypes: float64(12), int64(1)\n",
            "memory usage: 648.0 bytes\n",
            "None\n",
            "<class 'pandas.core.frame.DataFrame'>\n",
            "RangeIndex: 5 entries, 0 to 4\n",
            "Data columns (total 13 columns):\n",
            " #   Column     Non-Null Count  Dtype  \n",
            "---  ------     --------------  -----  \n",
            " 0   Year       5 non-null      int64  \n",
            " 1   January    5 non-null      float64\n",
            " 2   February   5 non-null      float64\n",
            " 3   March      5 non-null      float64\n",
            " 4   April      5 non-null      float64\n",
            " 5   May        5 non-null      float64\n",
            " 6   June       5 non-null      float64\n",
            " 7   July       5 non-null      float64\n",
            " 8   August     5 non-null      float64\n",
            " 9   September  5 non-null      float64\n",
            " 10  October    5 non-null      float64\n",
            " 11  November   5 non-null      float64\n",
            " 12  December   5 non-null      float64\n",
            "dtypes: float64(12), int64(1)\n",
            "memory usage: 648.0 bytes\n",
            "None\n",
            "<class 'pandas.core.frame.DataFrame'>\n",
            "RangeIndex: 5 entries, 0 to 4\n",
            "Data columns (total 13 columns):\n",
            " #   Column     Non-Null Count  Dtype  \n",
            "---  ------     --------------  -----  \n",
            " 0   Year       5 non-null      int64  \n",
            " 1   January    5 non-null      float64\n",
            " 2   February   5 non-null      float64\n",
            " 3   March      5 non-null      float64\n",
            " 4   April      5 non-null      float64\n",
            " 5   May        5 non-null      float64\n",
            " 6   June       5 non-null      float64\n",
            " 7   July       5 non-null      float64\n",
            " 8   August     5 non-null      float64\n",
            " 9   September  5 non-null      float64\n",
            " 10  October    5 non-null      float64\n",
            " 11  November   5 non-null      float64\n",
            " 12  December   5 non-null      float64\n",
            "dtypes: float64(12), int64(1)\n",
            "memory usage: 648.0 bytes\n",
            "None\n",
            "<class 'pandas.core.frame.DataFrame'>\n",
            "RangeIndex: 5 entries, 0 to 4\n",
            "Data columns (total 13 columns):\n",
            " #   Column     Non-Null Count  Dtype  \n",
            "---  ------     --------------  -----  \n",
            " 0   Year       5 non-null      int64  \n",
            " 1   January    5 non-null      float64\n",
            " 2   February   5 non-null      float64\n",
            " 3   March      5 non-null      float64\n",
            " 4   April      5 non-null      float64\n",
            " 5   May        5 non-null      float64\n",
            " 6   June       5 non-null      float64\n",
            " 7   July       5 non-null      float64\n",
            " 8   August     5 non-null      float64\n",
            " 9   September  5 non-null      float64\n",
            " 10  October    5 non-null      float64\n",
            " 11  November   5 non-null      float64\n",
            " 12  December   5 non-null      float64\n",
            "dtypes: float64(12), int64(1)\n",
            "memory usage: 648.0 bytes\n",
            "None\n",
            "<class 'pandas.core.frame.DataFrame'>\n",
            "RangeIndex: 5 entries, 0 to 4\n",
            "Data columns (total 13 columns):\n",
            " #   Column     Non-Null Count  Dtype  \n",
            "---  ------     --------------  -----  \n",
            " 0   Year       5 non-null      int64  \n",
            " 1   January    5 non-null      float64\n",
            " 2   February   5 non-null      float64\n",
            " 3   March      5 non-null      float64\n",
            " 4   April      5 non-null      float64\n",
            " 5   May        5 non-null      float64\n",
            " 6   June       5 non-null      float64\n",
            " 7   July       5 non-null      float64\n",
            " 8   August     5 non-null      float64\n",
            " 9   September  5 non-null      float64\n",
            " 10  October    5 non-null      float64\n",
            " 11  November   5 non-null      float64\n",
            " 12  December   5 non-null      float64\n",
            "dtypes: float64(12), int64(1)\n",
            "memory usage: 648.0 bytes\n",
            "None\n",
            "<class 'pandas.core.frame.DataFrame'>\n",
            "RangeIndex: 5 entries, 0 to 4\n",
            "Data columns (total 13 columns):\n",
            " #   Column     Non-Null Count  Dtype  \n",
            "---  ------     --------------  -----  \n",
            " 0   Year       5 non-null      int64  \n",
            " 1   January    5 non-null      float64\n",
            " 2   February   5 non-null      float64\n",
            " 3   March      5 non-null      float64\n",
            " 4   April      5 non-null      float64\n",
            " 5   May        5 non-null      float64\n",
            " 6   June       5 non-null      float64\n",
            " 7   July       5 non-null      float64\n",
            " 8   August     5 non-null      float64\n",
            " 9   September  5 non-null      float64\n",
            " 10  October    5 non-null      float64\n",
            " 11  November   5 non-null      float64\n",
            " 12  December   5 non-null      float64\n",
            "dtypes: float64(12), int64(1)\n",
            "memory usage: 648.0 bytes\n",
            "None\n",
            "<class 'pandas.core.frame.DataFrame'>\n",
            "RangeIndex: 5 entries, 0 to 4\n",
            "Data columns (total 13 columns):\n",
            " #   Column     Non-Null Count  Dtype  \n",
            "---  ------     --------------  -----  \n",
            " 0   Year       5 non-null      int64  \n",
            " 1   January    5 non-null      float64\n",
            " 2   February   5 non-null      float64\n",
            " 3   March      5 non-null      float64\n",
            " 4   April      5 non-null      float64\n",
            " 5   May        5 non-null      float64\n",
            " 6   June       5 non-null      float64\n",
            " 7   July       5 non-null      float64\n",
            " 8   August     5 non-null      float64\n",
            " 9   September  5 non-null      float64\n",
            " 10  October    5 non-null      float64\n",
            " 11  November   5 non-null      float64\n",
            " 12  December   5 non-null      float64\n",
            "dtypes: float64(12), int64(1)\n",
            "memory usage: 648.0 bytes\n",
            "None\n",
            "<class 'pandas.core.frame.DataFrame'>\n",
            "RangeIndex: 5 entries, 0 to 4\n",
            "Data columns (total 13 columns):\n",
            " #   Column     Non-Null Count  Dtype  \n",
            "---  ------     --------------  -----  \n",
            " 0   Year       5 non-null      int64  \n",
            " 1   January    5 non-null      float64\n",
            " 2   February   5 non-null      float64\n",
            " 3   March      5 non-null      float64\n",
            " 4   April      5 non-null      float64\n",
            " 5   May        5 non-null      float64\n",
            " 6   June       5 non-null      float64\n",
            " 7   July       5 non-null      float64\n",
            " 8   August     5 non-null      float64\n",
            " 9   September  5 non-null      float64\n",
            " 10  October    5 non-null      float64\n",
            " 11  November   5 non-null      float64\n",
            " 12  December   5 non-null      float64\n",
            "dtypes: float64(12), int64(1)\n",
            "memory usage: 648.0 bytes\n",
            "None\n"
          ]
        }
      ]
    },
    {
      "cell_type": "markdown",
      "source": [
        "Question 17: Loop on Columns in Pandas Dataframes\n",
        "Write a loop to run the .describe() method on each column in the pandas dataframe containing the data for 1996 to 2000).\n",
        "---\n",
        "Hint:\n",
        "\n",
        "Recall that creating a list of items to iterate upon is a good first step to writing a loop.\n",
        "Think about what you are iterating upon in this question - do your list values need \"\" to indicate text strings, or are you iterating on existing variables?\n",
        "Recall that to select columns in pandas dataframes using implicit variables (i.e. not explicitly created by you), change the syntax from dataframe.column_name to dataframe[[column_name]]."
      ],
      "metadata": {
        "id": "wpEwt7ZWuh7Q"
      }
    },
    {
      "cell_type": "code",
      "source": [
        "columnlist = [\"temp_1996_2000\"]\n",
        "print(columnlist)\n",
        "for column in columnlist:\n",
        "  print(pd.describe())\n"
      ],
      "metadata": {
        "colab": {
          "base_uri": "https://localhost:8080/"
        },
        "id": "uI46xT4Cuj4u",
        "outputId": "c0a000f6-a13b-48cd-ca33-911d52a554b8"
      },
      "execution_count": null,
      "outputs": [
        {
          "output_type": "stream",
          "name": "stdout",
          "text": [
            "['temp_1996_2000']\n",
            "              Year   January   February      March      April        May  \\\n",
            "count     5.000000   5.00000   5.000000   5.000000   5.000000   5.000000   \n",
            "mean   1993.000000  32.82000  36.460000  42.900000  48.480000  57.300000   \n",
            "std       1.581139   3.48023   4.882929   0.717635   3.439041   3.784838   \n",
            "min    1991.000000  28.30000  30.600000  42.100000  45.100000  50.900000   \n",
            "25%    1992.000000  29.90000  31.900000  42.400000  47.600000  57.500000   \n",
            "50%    1993.000000  34.50000  38.300000  42.800000  47.600000  58.200000   \n",
            "75%    1994.000000  35.50000  40.600000  43.300000  47.800000  59.100000   \n",
            "max    1995.000000  35.90000  40.900000  43.900000  54.300000  60.800000   \n",
            "\n",
            "            June       July     August  September    October  November  \\\n",
            "count   5.000000   5.000000   5.000000   5.000000   5.000000   5.00000   \n",
            "mean   65.280000  70.000000  69.540000  62.060000  51.200000  37.62000   \n",
            "std     3.105962   1.126943   3.056632   2.628307   2.019901   4.26169   \n",
            "min    62.400000  68.300000  66.300000  58.800000  48.700000  34.10000   \n",
            "25%    62.900000  69.500000  67.300000  60.400000  50.500000  35.60000   \n",
            "50%    64.500000  70.500000  69.200000  61.700000  50.600000  36.60000   \n",
            "75%    66.600000  70.500000  70.900000  64.400000  52.100000  36.80000   \n",
            "max    70.000000  71.200000  74.000000  65.000000  54.100000  45.00000   \n",
            "\n",
            "        December  \n",
            "count   5.000000  \n",
            "mean   34.460000  \n",
            "std     2.972036  \n",
            "min    29.200000  \n",
            "25%    35.300000  \n",
            "50%    35.400000  \n",
            "75%    36.100000  \n",
            "max    36.300000  \n"
          ]
        }
      ]
    },
    {
      "cell_type": "markdown",
      "source": [
        "Question 18: Write Function to Summarize Numpy Array Using Axes Write a function that calculates the mean across columns of a numpy array.\n",
        "--\n",
        "\n",
        "Hints:\n",
        "\n",
        "Recall which existing numpy function you can use to calculate a mean. You will include this function within the function you write to answer this question.\n",
        "Review the lessons on functions to see the use of axes to calculate a statistic across the rows or columns of a numpy array."
      ],
      "metadata": {
        "id": "ob98w1sJv9Dk"
      }
    },
    {
      "cell_type": "code",
      "source": [
        "#1° Criar um np só pra testar\n",
        "questao_18 = np.array([[ 0,  1,  2,  3,  4],\n",
        "       [ 5,  6,  7,  8,  9],\n",
        "       [10, 11, 12, 13, 14],\n",
        "       [15, 16, 17, 18, 19]])\n",
        "#2° Definir a função\n",
        "def summarize(array):\n",
        "\n",
        "\n",
        "\n",
        "    stat_mean_row = np.mean(array, axis = 0)\n",
        "\n",
        "    return stat_mean_row\n",
        "#Testa ela meu bom homem\n",
        "summarize(questao_18)\n",
        "\n",
        "\n",
        "\n"
      ],
      "metadata": {
        "colab": {
          "base_uri": "https://localhost:8080/"
        },
        "id": "W5QS_4nZwFv5",
        "outputId": "a52f75bc-f7c9-411d-b021-934540a06b34"
      },
      "execution_count": null,
      "outputs": [
        {
          "output_type": "execute_result",
          "data": {
            "text/plain": [
              "array([ 7.5,  8.5,  9.5, 10.5, 11.5])"
            ]
          },
          "metadata": {},
          "execution_count": 102
        }
      ]
    },
    {
      "cell_type": "markdown",
      "source": [
        "Question 19: Execute Function and Save Output to New Numpy Array\n",
        "--\n",
        "Run the function created in the previous question (i.e. to calculate mean of columns in a numpy array) on the numpy array containing data for 1993 to 1997. Save the output to a new numpy array."
      ],
      "metadata": {
        "id": "NMTM_Uii3eJL"
      }
    },
    {
      "cell_type": "code",
      "source": [
        "#1° puxa a função para criar um novo np\n",
        "summarize_precip_1993_1997 = np.array(summarize(precip_1993_1997))\n",
        "#2° Printa\n",
        "print(summarize_precip_1993_1997)"
      ],
      "metadata": {
        "colab": {
          "base_uri": "https://localhost:8080/"
        },
        "id": "5T2SXn4M4bcH",
        "outputId": "e4d2c1a3-86c8-4643-dce3-d2cf1a9e7f62"
      },
      "execution_count": null,
      "outputs": [
        {
          "output_type": "stream",
          "name": "stdout",
          "text": [
            "[0.902 1.184 1.608 3.746 3.898 2.96  1.114 2.19  2.444 1.402 1.776 0.468]\n"
          ]
        }
      ]
    }
  ]
}